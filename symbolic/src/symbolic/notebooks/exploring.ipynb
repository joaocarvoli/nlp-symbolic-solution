{
 "cells": [
  {
   "cell_type": "markdown",
   "id": "a4dc275803084cd8",
   "metadata": {},
   "source": [
    "# Data Exploration"
   ]
  },
  {
   "cell_type": "markdown",
   "id": "b2475ad8230eaa53",
   "metadata": {},
   "source": [
    "## 1. Imports"
   ]
  },
  {
   "cell_type": "code",
   "execution_count": 13,
   "id": "initial_id",
   "metadata": {
    "ExecuteTime": {
     "end_time": "2025-04-08T02:31:34.225783Z",
     "start_time": "2025-04-08T02:31:33.830765Z"
    },
    "collapsed": true
   },
   "outputs": [],
   "source": [
    "import pandas as pd\n",
    "import nltk\n",
    "\n",
    "from symbolic.helpers.dict_data import DictData\n",
    "from symbolic.preprocessing.tokenize_text import tokenize_text\n",
    "from symbolic.preprocessing.remove_stop_words import remove_stop_words\n",
    "from symbolic.preprocessing.stemming import stemming_words"
   ]
  },
  {
   "cell_type": "code",
   "execution_count": 14,
   "id": "e3844a8fd7edd666",
   "metadata": {
    "ExecuteTime": {
     "end_time": "2025-04-08T02:26:15.360599Z",
     "start_time": "2025-04-08T02:26:15.331803Z"
    }
   },
   "outputs": [
    {
     "data": {
      "application/vnd.microsoft.datawrangler.viewer.v0+json": {
       "columns": [
        {
         "name": "index",
         "rawType": "int64",
         "type": "integer"
        },
        {
         "name": "movie_title",
         "rawType": "object",
         "type": "string"
        },
        {
         "name": "username",
         "rawType": "object",
         "type": "string"
        },
        {
         "name": "numeric_rating",
         "rawType": "float64",
         "type": "float"
        },
        {
         "name": "likes",
         "rawType": "int64",
         "type": "integer"
        },
        {
         "name": "language",
         "rawType": "object",
         "type": "string"
        },
        {
         "name": "comment",
         "rawType": "object",
         "type": "string"
        }
       ],
       "conversionMethod": "pd.DataFrame",
       "ref": "90292364-d997-4787-8305-7fd20422a4cc",
       "rows": [
        [
         "0",
         "2001: A Space Odyssey",
         "qaaio",
         "2.5",
         "0",
         "ar",
         "ياساتر اقسم بالله اغبى شي تابعته واكثر شي تمطيط شفته مزبله مزبله"
        ],
        [
         "1",
         "2001: A Space Odyssey",
         "ditapie",
         "5.0",
         "0",
         "en",
         "This is the greatest film ever made. I can’t fully explain why, but something about it resonates with me in a way that transcends logic or analysis. I’d still prefer to watch Step Brothers though."
        ],
        [
         "2",
         "2001: A Space Odyssey",
         "uchinagas",
         "5.0",
         "0",
         "pt",
         "como pode esse filme existir"
        ],
        [
         "3",
         "2001: A Space Odyssey",
         "laurkarasek",
         "1.5",
         "0",
         "en",
         "Incredibly beautiful movie - especially for the time. Although the concept is great and way ahead of its time, about 15 total minutes of the film were interesting in part 3 and otherwise I was bored the whole time. Everything dragged on forever. Heavy breathing and barely anything on the screen for half the movie. I just dontttttt know about all that man. Not for me."
        ],
        [
         "4",
         "2001: A Space Odyssey",
         "nickcaven",
         "5.0",
         "0",
         "en",
         "This movie is a slow burn masterpiece. Each scene feels like it goes on 5 minutes too long but by the end you feel like it couldn’t have gone on any other way. There’s about 100 movies I could name off the top of my head that pull inspiration from Kubrick's space odyssey. This was my first time watching and every couple of minutes I would go “oh that’s where that trope was born”. The music played out in this…"
        ],
        [
         "5",
         "2001: A Space Odyssey",
         "jparnold",
         "5.0",
         "0",
         "en",
         "watching this made me lowkey emotional, like this is what people thought we’d achieve and we failed to do it"
        ],
        [
         "6",
         "2001: A Space Odyssey",
         "suzukiyui",
         "5.0",
         "0",
         "en",
         "The best sci-fi movie of all time hands down. Great cinematography considering the time that it was made, and a great ending. Perfect plot twist too, and the dialogues were natural as it can be."
        ],
        [
         "7",
         "2001: A Space Odyssey",
         "mi1chick",
         "4.0",
         "0",
         "fr",
         "Alors oui en notant comme ça on va remettre en question pas mal de notes que je mets mais je note à mon appréciation, pas forcément en jugeant la qualité intrinsèque du film. Donc étant un jeune né dans les années 2000 avec Star Wars, et après avoir vu des films comme Interstellar je trouve que c'est assez dur à juger comme film. Je l'ai vu deux fois, une fois à 13 ans et j'étais clairement trop petit pour voir…"
        ],
        [
         "8",
         "2001: A Space Odyssey",
         "palmgx",
         "4.0",
         "7",
         "en",
         "Gets better on rewatch. 2001 tells a compelling story about human vs technology & AI. The over reliance on technology that can lead to the downfall of humanity. It also explores a theme about how human’s intelligence can cause destructive things. I love how there’s tension between human and AI. I can definitely see the influence this movie has on movies like Terminator and Alien. But 2001 did it first. The first 20 minutes opening was genius stuff. I love how…"
        ],
        [
         "9",
         "2001: A Space Odyssey",
         "lqueb",
         "3.0",
         "0",
         "en",
         "I watched this while eating dinner before a theater show. Felt like I was high. I'll give a short summary. Guy goes to space, goes through space monolith which messes with time, becomes space Jesus, see's himself before he became space Jesus, and then he dies, but, like, gets reborn into space Jesus, and then dies as space Jesus. In conclusion, I have no idea what to rate this."
        ],
        [
         "10",
         "2001: A Space Odyssey",
         "rtzmovies",
         "4.5",
         "0",
         "en",
         "Predicted Grok^^"
        ],
        [
         "11",
         "2001: A Space Odyssey",
         "duxiu",
         "5.0",
         "0",
         "fr",
         "Dur de faire mieux"
        ],
        [
         "12",
         "2001: A Space Odyssey",
         "lukevinny",
         "4.0",
         "1",
         "pt",
         "Da evolução humana,as viagens espacias, relação dos humanos com IA e a existência de vida extraterrestre.É um filme com temática bem rica, apesar da sua narrativa lenta,o visual ajuda a capturar o espectador.Ele é bem bonito, principalmente pra época,é surreal pensar que faz tanto tempo que isso foi lançado. Possivelmenteo pai da ficção científica no cinema, foram tantos filmes que pegaram inspirações.Os que percebi mais claramente foram Blade Runner,Alien, Star Wars,Interestelar. Kubrick sempre foi sinônimo de excelência,em suas trilhas sonoras,e…"
        ],
        [
         "13",
         "2001: A Space Odyssey",
         "abhi_xoxo",
         "4.0",
         "0",
         "en",
         "on this rewatch(community screening nearby) , the initial hour of orchestra music in the movie provided me with michelin starred ambient music while i broke my ramadan fast munching on a 2 feet loaf and biggest cadbury , with sides that went parallel with opening scenes of apes eating & scavenging on screen just as kubrick would've intended the remaining half of the movie had a otherworldly meditative effect on me or did i overdo myself with the ton of food , would be nice to ask HAL ps: i am not sure whether i actually like this movie , might not"
        ],
        [
         "14",
         "2001: A Space Odyssey",
         "ryexfilms",
         "4.5",
         "0",
         "en",
         "1968 is crazy"
        ],
        [
         "15",
         "2001: A Space Odyssey",
         "pernille265",
         "2.5",
         "0",
         "en",
         "You know when you watch something from fashion week and think “is this actually good or is there just a big name on it?” I’m sorry, but that’s kinda how this was for me. Of course it should be appreciated for the impact and for the absolute force of nature it was when it was released, but by todays standards it was just absolutely fine. I’m sure a rewatch could change some things for me, but for now, meh"
        ],
        [
         "16",
         "2001: A Space Odyssey",
         "ithzlol",
         "5.0",
         "0",
         "es",
         "Espacio y una IA con ganas de asesinarte, no hay mejor cosa que eso"
        ],
        [
         "17",
         "2001: A Space Odyssey",
         "buffayslover",
         "5.0",
         "0",
         "en",
         "I can't imagine watching this in 1968."
        ],
        [
         "18",
         "2001: A Space Odyssey",
         "axelps",
         "1.0",
         "0",
         "fr",
         "Qqun à un mouchoir pour essuyer le foutre intellectuel répandu par Kubrick"
        ],
        [
         "19",
         "2001: A Space Odyssey",
         "mxnmacchiato",
         "4.5",
         "1",
         "en",
         "literally me when i touch the obelisk"
        ],
        [
         "20",
         "2001: A Space Odyssey",
         "harriette__",
         "0.0",
         "1",
         "en",
         "group photo by the monolith :))"
        ],
        [
         "21",
         "2001: A Space Odyssey",
         "greuuuh",
         "5.0",
         "0",
         "ro",
         "Absolute cinema."
        ],
        [
         "22",
         "2001: A Space Odyssey",
         "dreamymar",
         "4.0",
         "3",
         "es",
         "así que ni diciéndole por favor y gracias a chat gpt me salvo 😟 qué fumada, tuve q buscar un análisis del final y MENOS MAL que Kubrick lo explicó en una entrevista porque sino diosmio"
        ],
        [
         "23",
         "2001: A Space Odyssey",
         "thfrankenstien",
         "4.0",
         "0",
         "en",
         "Yknow. I have many issues with this movie. I have so so so many thoughts on it but that’s in (mainly) part to the fact that I’m stoned as fuck right now. But. The issues I can articulate is the fact that this movie is ENTIRELY too long on its pace. For the length of story told, THE FACT THAT ONE WHOLE HOUR IS BASED ON THE WRONG PART OF THE MOVIE, is kind broken. But that’s okay. I understand…"
        ],
        [
         "24",
         "2001: A Space Odyssey",
         "thomas38",
         "3.5",
         "0",
         "fr",
         "Il se branle un peu sur nous la le Stanley on va pas se mentir"
        ],
        [
         "25",
         "2001: A Space Odyssey",
         "navidamini",
         "1.0",
         "3",
         "fa",
         "صادقانه بگم، اولین فیلم سال اصلا فیلم خوبی نبود و انتخاب بدی کردم... فرقی نداره که ژانر چی باشه و ناسا ۵ سال روی فیلم تحقیق کرده و ابرو ماه و مه خورشید و فلک در کار بودند تا فیلم ساخته بشه، شما تا زمانی که نتوانی یک فیلمنامه با اندیشه های سینمایی بنویسی؛ فیلمت ضعیف میشه.. وقتی در بر انگیختن احساسات ما عاجز باشی به فرم نمیرسی..وقتی به تکنولوژی دلخوش کنی، به باور قلبی به فیلم و شخصیت هات…"
        ],
        [
         "26",
         "2001: A Space Odyssey",
         "wonderboydamien",
         "4.5",
         "0",
         "fr",
         "4,5/5 Les décors et les costumes sont incroyables. L’ambiance que Kubrick arrive à crée est très immersive, un peu creepy parfois avec une musique où des gens cri ?!?! Sur ça rien a dire, c’est vraiment une expérience unique le seul bémol c’est le début et des parties un peu longue où rien ne se passe."
        ],
        [
         "27",
         "2001: A Space Odyssey",
         "victorlac",
         "5.0",
         "0",
         "fr",
         "HAL +1 lettre dans l'alphabet = IBM. Merci M. Lanot."
        ],
        [
         "28",
         "2001: A Space Odyssey",
         "radiojordy",
         "5.0",
         "1",
         "en",
         "What a great movie. Why aren't there any movies nowadays where you have to think about the ending for several minutes? In today's movies, everything is declared dead"
        ],
        [
         "29",
         "2001: A Space Odyssey",
         "gaabymunson",
         "5.0",
         "0",
         "pt",
         "Não entendi, mas fodastico mds"
        ],
        [
         "30",
         "2001: A Space Odyssey",
         "juice123588",
         "5.0",
         "0",
         "th",
         "เดี๋ยวดู Solaris แล้วเอามาเทียบดูละกัน 💖💖💖💖💖💖💖💖💖💖💖💖💖💖💖💖💖💖💖💖💖 /100"
        ],
        [
         "31",
         "2001: A Space Odyssey",
         "aitortv",
         "4.0",
         "0",
         "es",
         "La mejor de Kubrick en cuestion de tomas de las que he visto. Y ya lo de la musica... Lo unico malo que le saco es que para durar 2 horas y media tengo la sensacion que ha pasado poco, aunque tambien es verdad que se me ha pasado rapido."
        ],
        [
         "32",
         "2001: A Space Odyssey",
         "augusto_gallo",
         "3.0",
         "0",
         "es",
         "Muy adelantada a su tiempo, si la ves con los ojos de una persona del 68 es espectacular, pero ha envejecido regular, esos tiempos infinitos mostrando una nave , un planeta, la infinidad del espacio , a día de hoy se hace aburrido y pesado, aún así es curiosa de ver. Lenta de cojones"
        ],
        [
         "33",
         "2001: A Space Odyssey",
         "chrim1",
         "4.0",
         "0",
         "en",
         "It’s wackadoodle time"
        ],
        [
         "34",
         "2001: A Space Odyssey",
         "stanleykubrickx",
         "5.0",
         "0",
         "en",
         "he really did that in the 60's huh"
        ],
        [
         "35",
         "2001: A Space Odyssey",
         "chimiwtf",
         "0.0",
         "0",
         "es",
         "Tremenda, un total referente cultural, tras haber intentado ver la película como 4 veces y siempre haber llegado al inicio de la expedición a Júpiter, por fin la terminé y tengo que decir que lo más satisfactorio es su final, si bien la película ya desdoblaba la realidad para haber salido en el 68, el viaje sideral del final fue lo mejor, una experiencia sonora y ambiental hecha para ser vista en el cine, un hito. Si bien es una…"
        ],
        [
         "36",
         "2001: A Space Odyssey",
         "marcoz17",
         "5.0",
         "0",
         "es",
         "Hmp, que bien se ve en comparación a nuevas peliculas y en cuanto a la trama muy buena (No entendí nada)"
        ],
        [
         "37",
         "2001: A Space Odyssey",
         "cgp22",
         "4.0",
         "1",
         "es",
         "Es del 68 no de 2001"
        ],
        [
         "38",
         "2001: A Space Odyssey",
         "ilyasnajih",
         "3.0",
         "0",
         "en",
         "? I had no problems with the pacing and actually really liked the first hour or so despite nothing happening but I'm disappointed that it didn't lead to ANYTHING actually happening towards the end so making it \"open to interpretation\" just kinda sounds like saying \"here are some cool themes and visuals now finish the script for me however you like it\" And seeing the monkeys again would've been fun lol"
        ],
        [
         "39",
         "2001: A Space Odyssey",
         "milkzx",
         "5.0",
         "0",
         "en",
         "THE BEST STANLEY KUBRICK MOVIE THE BEST SCIENCE FICTION MOVIE ONE OF THE BEST MOVIE EVER The photography in this film is incredible, this film is beautiful We need to be patient to watch it, but this film is a lesson in cinema because how is it possible for a film with little dialogue to be so goooood? Seriously, I love Stanley's films What was that end? ☄️"
        ],
        [
         "40",
         "2001: A Space Odyssey",
         "polorolfo",
         "4.5",
         "0",
         "es",
         "Lo bueno: 1visualmente hermosa. 2creo que representa mejor el horror cósmico que cualquier otra película. Lo malo: 1 hay una escena que no me gusta porque el protagonista logra sobrevivir por un segundo al vacío del espacio. 2 final inenentendible."
        ],
        [
         "41",
         "2001: A Space Odyssey",
         "kroovyy",
         "5.0",
         "0",
         "es",
         "Fok lo adelantadísimo a su época de esto Kubrick dijo, me voy a gastar todo el presupuesto en sillas de muy buen gusto Los momentos de oscuridad completa con el sonido otppp Jsjsj nunca me imagine que esto fuera horror cósmico, kede loka Esta película sin la Banda sonora no sería nada No pasa nada pero te transmite todo y lo presuntuoso sí le queda Maldito Kubrick excéntrico acaso fuiste un nepobaby o q"
        ],
        [
         "42",
         "2001: A Space Odyssey",
         "bernyfimose",
         "5.0",
         "0",
         "pt",
         "O Stanley Kubrick gastou todas as barrinhas nesse filme. Eu não acompanhei muito a carreira da Kubrick, provável dele ser assim a vida toda mas porra, como que pode? O filme é lindo, tudo nesse filme é impecável, da estética ao texto, tudo no seu devido lugar, Absolute cinema. 5/5"
        ],
        [
         "43",
         "2001: A Space Odyssey",
         "estiercol42",
         "2.5",
         "0",
         "es",
         "A ver, entiendo lo que querían hacer. Pero kubrik es que no sabe hacer ritmos consecuentes a una película. 2001 es somnífera, COÑAZO. El final de la película y la historia de HAL está muy muy bien. Pero el resto UFFF eh."
        ],
        [
         "44",
         "2001: A Space Odyssey",
         "xzfz1",
         "0.0",
         "0",
         "ar",
         "ياليت ما تابعته"
        ],
        [
         "45",
         "2001: A Space Odyssey",
         "pedrops7",
         "5.0",
         "0",
         "pt",
         "Esse filme é pra ver depois de ficar bem doido, fodastico"
        ],
        [
         "46",
         "2001: A Space Odyssey",
         "mimismall",
         "4.0",
         "1",
         "en",
         "Ok how cool was that? Felt like blasphemy not to watch this on a big screen :( - 1 star for the breathing noises and overlong space shuttle shots"
        ],
        [
         "47",
         "2001: A Space Odyssey",
         "i77e77",
         "5.0",
         "3",
         "en",
         "2001: A Space Odyssey is not just a film—it is a profound cinematic experience that transcends time and space. Directed by the visionary Stanley Kubrick, this masterpiece takes us on an awe-inspiring journey, exploring the very essence of human evolution, artificial intelligence, and the mysteries of the cosmos. From its haunting opening sequence, set to the powerful strains of Also sprach Zarathustra, to its mind-bending, almost transcendental finale, every frame is meticulously crafted, immersing the viewer in a dreamlike voyage.…"
        ],
        [
         "48",
         "2001: A Space Odyssey",
         "3qlha",
         "5.0",
         "2",
         "en",
         "The ending feels like a surreal fever dream, the film’s core idea is absolutely brilliant"
        ],
        [
         "49",
         "2001: A Space Odyssey",
         "mrlumpy06",
         "2.0",
         "1",
         "en",
         "Yall gonna hate me for this one..."
        ]
       ],
       "shape": {
        "columns": 6,
        "rows": 3060
       }
      },
      "text/html": [
       "<div>\n",
       "<style scoped>\n",
       "    .dataframe tbody tr th:only-of-type {\n",
       "        vertical-align: middle;\n",
       "    }\n",
       "\n",
       "    .dataframe tbody tr th {\n",
       "        vertical-align: top;\n",
       "    }\n",
       "\n",
       "    .dataframe thead th {\n",
       "        text-align: right;\n",
       "    }\n",
       "</style>\n",
       "<table border=\"1\" class=\"dataframe\">\n",
       "  <thead>\n",
       "    <tr style=\"text-align: right;\">\n",
       "      <th></th>\n",
       "      <th>movie_title</th>\n",
       "      <th>username</th>\n",
       "      <th>numeric_rating</th>\n",
       "      <th>likes</th>\n",
       "      <th>language</th>\n",
       "      <th>comment</th>\n",
       "    </tr>\n",
       "  </thead>\n",
       "  <tbody>\n",
       "    <tr>\n",
       "      <th>0</th>\n",
       "      <td>2001: A Space Odyssey</td>\n",
       "      <td>qaaio</td>\n",
       "      <td>2.5</td>\n",
       "      <td>0</td>\n",
       "      <td>ar</td>\n",
       "      <td>ياساتر اقسم بالله اغبى شي تابعته واكثر شي تمطي...</td>\n",
       "    </tr>\n",
       "    <tr>\n",
       "      <th>1</th>\n",
       "      <td>2001: A Space Odyssey</td>\n",
       "      <td>ditapie</td>\n",
       "      <td>5.0</td>\n",
       "      <td>0</td>\n",
       "      <td>en</td>\n",
       "      <td>This is the greatest film ever made. I can’t f...</td>\n",
       "    </tr>\n",
       "    <tr>\n",
       "      <th>2</th>\n",
       "      <td>2001: A Space Odyssey</td>\n",
       "      <td>uchinagas</td>\n",
       "      <td>5.0</td>\n",
       "      <td>0</td>\n",
       "      <td>pt</td>\n",
       "      <td>como pode esse filme existir</td>\n",
       "    </tr>\n",
       "    <tr>\n",
       "      <th>3</th>\n",
       "      <td>2001: A Space Odyssey</td>\n",
       "      <td>laurkarasek</td>\n",
       "      <td>1.5</td>\n",
       "      <td>0</td>\n",
       "      <td>en</td>\n",
       "      <td>Incredibly beautiful movie - especially for th...</td>\n",
       "    </tr>\n",
       "    <tr>\n",
       "      <th>4</th>\n",
       "      <td>2001: A Space Odyssey</td>\n",
       "      <td>nickcaven</td>\n",
       "      <td>5.0</td>\n",
       "      <td>0</td>\n",
       "      <td>en</td>\n",
       "      <td>This movie is a slow burn masterpiece. Each sc...</td>\n",
       "    </tr>\n",
       "    <tr>\n",
       "      <th>...</th>\n",
       "      <td>...</td>\n",
       "      <td>...</td>\n",
       "      <td>...</td>\n",
       "      <td>...</td>\n",
       "      <td>...</td>\n",
       "      <td>...</td>\n",
       "    </tr>\n",
       "    <tr>\n",
       "      <th>3055</th>\n",
       "      <td>2001: A Space Odyssey</td>\n",
       "      <td>silly_pssy</td>\n",
       "      <td>5.0</td>\n",
       "      <td>1</td>\n",
       "      <td>en</td>\n",
       "      <td>shapes and colors and … well… space baby of co...</td>\n",
       "    </tr>\n",
       "    <tr>\n",
       "      <th>3056</th>\n",
       "      <td>2001: A Space Odyssey</td>\n",
       "      <td>pateajubiladas</td>\n",
       "      <td>5.0</td>\n",
       "      <td>0</td>\n",
       "      <td>es</td>\n",
       "      <td>La mejor película espacial en mi opinión. El f...</td>\n",
       "    </tr>\n",
       "    <tr>\n",
       "      <th>3057</th>\n",
       "      <td>2001: A Space Odyssey</td>\n",
       "      <td>sidracheema</td>\n",
       "      <td>3.0</td>\n",
       "      <td>2</td>\n",
       "      <td>en</td>\n",
       "      <td>Glad I watched this as Kubrick intended.  Over...</td>\n",
       "    </tr>\n",
       "    <tr>\n",
       "      <th>3058</th>\n",
       "      <td>2001: A Space Odyssey</td>\n",
       "      <td>ciaranh123</td>\n",
       "      <td>5.0</td>\n",
       "      <td>0</td>\n",
       "      <td>en</td>\n",
       "      <td>Naruto Smith what are you doing here?</td>\n",
       "    </tr>\n",
       "    <tr>\n",
       "      <th>3059</th>\n",
       "      <td>2001: A Space Odyssey</td>\n",
       "      <td>eduardasimoes</td>\n",
       "      <td>5.0</td>\n",
       "      <td>1</td>\n",
       "      <td>pt</td>\n",
       "      <td>olha eu lembrava que era maluquinho mas não ti...</td>\n",
       "    </tr>\n",
       "  </tbody>\n",
       "</table>\n",
       "<p>3060 rows × 6 columns</p>\n",
       "</div>"
      ],
      "text/plain": [
       "                movie_title        username  numeric_rating  likes language  \\\n",
       "0     2001: A Space Odyssey           qaaio             2.5      0       ar   \n",
       "1     2001: A Space Odyssey         ditapie             5.0      0       en   \n",
       "2     2001: A Space Odyssey       uchinagas             5.0      0       pt   \n",
       "3     2001: A Space Odyssey     laurkarasek             1.5      0       en   \n",
       "4     2001: A Space Odyssey       nickcaven             5.0      0       en   \n",
       "...                     ...             ...             ...    ...      ...   \n",
       "3055  2001: A Space Odyssey      silly_pssy             5.0      1       en   \n",
       "3056  2001: A Space Odyssey  pateajubiladas             5.0      0       es   \n",
       "3057  2001: A Space Odyssey     sidracheema             3.0      2       en   \n",
       "3058  2001: A Space Odyssey      ciaranh123             5.0      0       en   \n",
       "3059  2001: A Space Odyssey   eduardasimoes             5.0      1       pt   \n",
       "\n",
       "                                                comment  \n",
       "0     ياساتر اقسم بالله اغبى شي تابعته واكثر شي تمطي...  \n",
       "1     This is the greatest film ever made. I can’t f...  \n",
       "2                          como pode esse filme existir  \n",
       "3     Incredibly beautiful movie - especially for th...  \n",
       "4     This movie is a slow burn masterpiece. Each sc...  \n",
       "...                                                 ...  \n",
       "3055  shapes and colors and … well… space baby of co...  \n",
       "3056  La mejor película espacial en mi opinión. El f...  \n",
       "3057  Glad I watched this as Kubrick intended.  Over...  \n",
       "3058              Naruto Smith what are you doing here?  \n",
       "3059  olha eu lembrava que era maluquinho mas não ti...  \n",
       "\n",
       "[3060 rows x 6 columns]"
      ]
     },
     "execution_count": 14,
     "metadata": {},
     "output_type": "execute_result"
    }
   ],
   "source": [
    "df = pd.read_csv('../../../datasets/movie_reviews_with_language.csv')\n",
    "df"
   ]
  },
  {
   "cell_type": "markdown",
   "id": "a0de5597abc65808",
   "metadata": {},
   "source": [
    "## 2. Exploration"
   ]
  },
  {
   "cell_type": "code",
   "execution_count": 15,
   "id": "743c68f45e7bb9b",
   "metadata": {
    "ExecuteTime": {
     "end_time": "2025-04-08T02:26:15.392069Z",
     "start_time": "2025-04-08T02:26:15.386723Z"
    }
   },
   "outputs": [
    {
     "data": {
      "application/vnd.microsoft.datawrangler.viewer.v0+json": {
       "columns": [
        {
         "name": "index",
         "rawType": "int64",
         "type": "integer"
        },
        {
         "name": "movie_title",
         "rawType": "object",
         "type": "string"
        },
        {
         "name": "numeric_rating",
         "rawType": "float64",
         "type": "float"
        },
        {
         "name": "likes",
         "rawType": "int64",
         "type": "integer"
        },
        {
         "name": "comment",
         "rawType": "object",
         "type": "string"
        }
       ],
       "conversionMethod": "pd.DataFrame",
       "ref": "2e0e20b3-fa07-4ec8-9202-7d5943e8b0a4",
       "rows": [
        [
         "2",
         "2001: A Space Odyssey",
         "5.0",
         "0",
         "como pode esse filme existir"
        ],
        [
         "12",
         "2001: A Space Odyssey",
         "4.0",
         "1",
         "Da evolução humana,as viagens espacias, relação dos humanos com IA e a existência de vida extraterrestre.É um filme com temática bem rica, apesar da sua narrativa lenta,o visual ajuda a capturar o espectador.Ele é bem bonito, principalmente pra época,é surreal pensar que faz tanto tempo que isso foi lançado. Possivelmenteo pai da ficção científica no cinema, foram tantos filmes que pegaram inspirações.Os que percebi mais claramente foram Blade Runner,Alien, Star Wars,Interestelar. Kubrick sempre foi sinônimo de excelência,em suas trilhas sonoras,e…"
        ],
        [
         "29",
         "2001: A Space Odyssey",
         "5.0",
         "0",
         "Não entendi, mas fodastico mds"
        ],
        [
         "42",
         "2001: A Space Odyssey",
         "5.0",
         "0",
         "O Stanley Kubrick gastou todas as barrinhas nesse filme. Eu não acompanhei muito a carreira da Kubrick, provável dele ser assim a vida toda mas porra, como que pode? O filme é lindo, tudo nesse filme é impecável, da estética ao texto, tudo no seu devido lugar, Absolute cinema. 5/5"
        ],
        [
         "45",
         "2001: A Space Odyssey",
         "5.0",
         "0",
         "Esse filme é pra ver depois de ficar bem doido, fodastico"
        ],
        [
         "72",
         "2001: A Space Odyssey",
         "2.5",
         "0",
         "Um ícone, mas..."
        ],
        [
         "73",
         "2001: A Space Odyssey",
         "3.5",
         "0",
         "po não tem como negar que esse filme tem uma das fotografias mais lindas e insanas do mundo, principalmente levando em conta que ele é de 1968, mas vamos pensar racionalmente se realmente era necessário 2 horas e meia disso …. dava pra ter continuado absolute masterpiece mas com menos tempo sabe ….. (ou as vezes eu só não sou cult o suficiente e já estou consumida pelo brainrot)"
        ],
        [
         "90",
         "2001: A Space Odyssey",
         "5.0",
         "0",
         "a verdade é que nolan queria ter feito esse filme e acabou fazendo interstellar é isso aí msm"
        ],
        [
         "93",
         "2001: A Space Odyssey",
         "4.0",
         "0",
         "Quem me dera ter fumado"
        ],
        [
         "96",
         "2001: A Space Odyssey",
         "3.5",
         "0",
         "Esteticamente falando, é um dos filmes mais belos já criados (como assim ele é de 1968???) Poucos diálogos, menos explicações ainda e muitas perguntas. Em resumo são duas horas e meia sobre um retângulo misterioso."
        ],
        [
         "98",
         "2001: A Space Odyssey",
         "4.0",
         "0",
         "Filme doidão, fiquei vidrado do início ao fim. Muito bonito e bem feito, não parece que foi feito 50 anos atrás. Filmasso, mas não dá pra ver qualquer dia pq tem que estar na vibe pra entrar na lombra."
        ],
        [
         "100",
         "2001: A Space Odyssey",
         "3.5",
         "0",
         "É impressionante a qualidade de imagens que este filme traz. Além disso, ele aborda temas super atuais, o que o torna ainda mais impactante e relevante."
        ],
        [
         "101",
         "2001: A Space Odyssey",
         "4.0",
         "0",
         "imagina vc ser um robô e morrer, que patético"
        ],
        [
         "132",
         "2001: A Space Odyssey",
         "3.5",
         "0",
         "grande filme, não entendi nada"
        ],
        [
         "142",
         "2001: A Space Odyssey",
         "3.5",
         "1",
         "Eu interpreto 2001: A Space Odyssey , de Stanley Kubrick , como se fosse um álbum de música experimental: é bom, mas pode ser difícil de assimilar. O filme tem momentos de genialidade visual e narrativa, mas seu ritmo excessivamente lento em algumas partes pode tornar a experiência cansativa. Embora reconheça sua importância e influência no cinema, acho que ele às vezes superestima sua própria grandiosidade. Ainda assim, é uma obra notável, com um impacto inegável, mesmo que não esteja entre minhas favoritas de Kubrick ."
        ],
        [
         "146",
         "2001: A Space Odyssey",
         "4.0",
         "0",
         "É isso aí mermo?"
        ],
        [
         "168",
         "2001: A Space Odyssey",
         "5.0",
         "0",
         "Entendi mas não entendi e acho que essa é a ideia... Daora pensar que esse é um filme de 1968, assistir isso é uma experiência bem legal e bem brisada Vale a pena!"
        ],
        [
         "177",
         "2001: A Space Odyssey",
         "3.5",
         "0",
         "que viagem foi essa, no final o Dave ficou no efeito do N bomb Mas muito avançado"
        ],
        [
         "181",
         "2001: A Space Odyssey",
         "4.5",
         "0",
         "finalmente assisti #obrigado hz ; a estética do filme é absurda e dá pra entender o motivo do seu impacto cultural, basicamente tudo no filme é extremamente inovador e groundbreaking, e é curioso como o plot principal do filme é simples, o filme tem 2h30 mas vc sente q pouca coisa efetivamente acontece, ao mesmo tempo que o filme em si passa em um instante, eu gostaria de ver mais do hal. enfim, já estava na devida hora de assistir, e com certeza valeu a pena"
        ],
        [
         "192",
         "2001: A Space Odyssey",
         "4.0",
         "0",
         "vi chapado e fiquei assim 😲 o filme inteiro"
        ],
        [
         "194",
         "2001: A Space Odyssey",
         "4.0",
         "0",
         "pensa em um filme lento jesus mas pensar que foi feito antes do homem pisar na Lua tipo assim MEU DEUS"
        ],
        [
         "210",
         "2001: A Space Odyssey",
         "0.0",
         "0",
         "que chatice de filme 😭😭😭😭 tudo que eu odeio junto, camera lenta, pouco dialogo, e historia confusa. ok deixa eu dar uma review mais completa sobre. Esse filme eh longo, e não em um sentido bom como senhor dos aneis. Longo de uma forma desnecessária, tipo Stranger Things 4.  Uma enrolação sem necessidade, duas horas e meia de filme muito mal executadas com poucas informações e um sinal ridiculo. Eu juro por deus todo mundo que avaliou essa bomba com…"
        ],
        [
         "214",
         "2001: A Space Odyssey",
         "4.0",
         "0",
         "lindíssimo, mas..... não entendi nada. ok, fui procurar mais sobre o filme e entendi... que viagem, doido"
        ],
        [
         "224",
         "2001: A Space Odyssey",
         "5.0",
         "1",
         "como ele fez isso em 68???"
        ],
        [
         "227",
         "2001: A Space Odyssey",
         "4.0",
         "1",
         "Sinto que preciso rever pois não sei se tenho o suficiente para falar algo sobre esse filme."
        ],
        [
         "229",
         "2001: A Space Odyssey",
         "1.0",
         "1",
         "queria levantar e ir embora da aula mas fiquei com dó do professor"
        ],
        [
         "233",
         "2001: A Space Odyssey",
         "4.0",
         "0",
         "antes tivessem deixado o hd externo quieto na dele"
        ],
        [
         "258",
         "2001: A Space Odyssey",
         "4.0",
         "0",
         "Um ótimo filme, a história por trás de tudo é bastante interessante e intrigante, fazendo você querer assistir mais e mais"
        ],
        [
         "267",
         "2001: A Space Odyssey",
         "4.0",
         "3",
         "Um filme perfeito porém complexo. Essa foi a obra que talvez mais me cativou, apesar de ter uma apresentação bem lenta não deixa a desejar em momento algum, acredito que a maioria do publico que não gostou do filme não teve a capacidade de compreender 100% daquilo que foi retratado, confesso que fui atrás de entender tudo através de videos e até mesmo do livro (que recomendo muito). Pensar que tudo isso foi escrito e feito a 57 anos atrás…"
        ],
        [
         "271",
         "2001: A Space Odyssey",
         "3.0",
         "0",
         "me dormí"
        ],
        [
         "291",
         "2001: A Space Odyssey",
         "4.5",
         "0",
         "aconteceu algo parecido cmg uma vez"
        ],
        [
         "297",
         "2001: A Space Odyssey",
         "5.0",
         "0",
         "Que filme, que experiência, que obra de arte Sem palavras…"
        ],
        [
         "299",
         "2001: A Space Odyssey",
         "5.0",
         "0",
         "caralho esse filme é insano mano, como na década de 60 os caras tiveram essas ideias do caralho que obra magnífica vsf"
        ],
        [
         "303",
         "2001: A Space Odyssey",
         "5.0",
         "0",
         "Filme lendo porém muito marcante, música sensacional e o filme mais imercivo que já vi. Como o Kubrick fez isso aqui em 1968 eu não sei."
        ],
        [
         "313",
         "2001: A Space Odyssey",
         "1.0",
         "0",
         "to muito triste pq esperava gostar muito desse mas foi decepcionante"
        ],
        [
         "314",
         "2001: A Space Odyssey",
         "5.0",
         "1",
         "Sou japonesa, mas nunca escalei o Monte Fuji. Muitos brasileiros também não se aventuram nas Cataratas do Iguaçu. Tendemos a adiar o que parece ser difícil de alcançar. Por que não assisti a este filme antes? Fiquei muito empolgada com　uma sensação estranha onde a beleza coexiste com o medo do desconhecido e o grotesco. Uma sensação estranha. A humanidade evolui e, finalmente, transcende o transcendente, tornando-se o próprio. E esses seres estão conectados e em loop por algo como barras…"
        ],
        [
         "342",
         "2001: A Space Odyssey",
         "0.0",
         "1",
         "je me suis endormi 4 fois"
        ],
        [
         "363",
         "2001: A Space Odyssey",
         "5.0",
         "13",
         "O ser humano é muito pequeno, frágil e limitado. É a partir dessa premissa que Kubrick desenvolve a odisseia da humanidade e de sua evolução. No primeiro segmento, há a ilustração da aurora do homem, do homem concebido em sua natureza selvagem, que sofre nas mãos de outros predadores e que não nutre profundos sentimentos pelos iguais. Eis que uma peça estranha surge no meio deles, um monolito, uma tela escura, um auxílio que definitivamente não é deste mundo, para…"
        ],
        [
         "364",
         "2001: A Space Odyssey",
         "5.0",
         "0",
         "dope"
        ],
        [
         "366",
         "2001: A Space Odyssey",
         "2.5",
         "1",
         "fotografia bonita mas achei chatinho e não captei o conceito"
        ],
        [
         "369",
         "2001: A Space Odyssey",
         "3.5",
         "0",
         "Kkkkkk não entendi nada, mas esse filme tem a melhor cinematografia que eu já vi, muito louco."
        ],
        [
         "371",
         "2001: A Space Odyssey",
         "5.0",
         "0",
         "melhor experiência cinematográfica já produzida por um homem"
        ],
        [
         "380",
         "2001: A Space Odyssey",
         "3.5",
         "0",
         "Mesmo depois de todo esse tempo ainda é um filme bem moderno. Sobre a história, achei meio entrecortada demais por momentos muito longos sem nada se desenvolvendo (que mesmo servindo para apresentar a dinâmica desse universo, deixa o filme bem menos interessante), além disso, mesmo com um filme de 2 horas, pareceu faltar metade da história pra contar. No fim, acho que foi só o primeiro filme de ficcao cientifica espacial que os EUA vem copiando e colando ano após…"
        ],
        [
         "404",
         "2001: A Space Odyssey",
         "5.0",
         "5",
         "Nova visita a esse filme todo torto (o mais torto da filmografia de Kubrick) mas tão intenso. Curiosamente é a segunda vez que vejo e sala de cinema, ambas as vezes em salas antigas que mantêm o visual o passado e o ritual das sessões do passado (cortinas abrindo, luzes acendendo e apagando nos intervalos, arquitetura art déco, carpetes, poltronas estofadas). O som desse filme é angustiante. Ver no cinema muda completamente a experiência sonora."
        ],
        [
         "422",
         "2001: A Space Odyssey",
         "5.0",
         "0",
         "Maior viagem da história"
        ],
        [
         "446",
         "2001: A Space Odyssey",
         "5.0",
         "241",
         "Eu estou com medo, Dave. Outro filme que não parece que foi feito nessa época. 1968? Me engana que eu gosto. Isso é no minimo anos 2000. Senhores, a evolução! Que filme simétrico, pqp... Eu ainda não sei como interpretar a parte dos monolitos. Mas é profundo! O ser humano é a mesma coisa que nada. Eu testemunhei o tempo se desfazer diante dos meus olhos. Gostaria de mencionar a importância do HAL nesse filme, e o medo que ele…"
        ],
        [
         "466",
         "2001: A Space Odyssey",
         "4.0",
         "0",
         "vai gostar de espaço tempo tanto assim pra lá kkkkk resenha"
        ],
        [
         "510",
         "2001: A Space Odyssey",
         "5.0",
         "0",
         "Ok que o enredo cabia num e-mail, mas kubrick preencheu a história com as imagens e sons arrebatadores e, hum, muito cool. Lindíssimo."
        ],
        [
         "528",
         "2001: A Space Odyssey",
         "2.5",
         "3",
         "As cenas filmadas aqui impressionam muito, o jeito q eles usam efeito pratico pra simular a falta de gravidade no espaço, inovador. Mas que porre que é isso aqui."
        ],
        [
         "540",
         "2001: A Space Odyssey",
         "1.5",
         "0",
         "Queria ter gostado, mas ver quase 1 hr e nada acontecer, me fez não gostar dessa bomba"
        ]
       ],
       "shape": {
        "columns": 4,
        "rows": 249
       }
      },
      "text/html": [
       "<div>\n",
       "<style scoped>\n",
       "    .dataframe tbody tr th:only-of-type {\n",
       "        vertical-align: middle;\n",
       "    }\n",
       "\n",
       "    .dataframe tbody tr th {\n",
       "        vertical-align: top;\n",
       "    }\n",
       "\n",
       "    .dataframe thead th {\n",
       "        text-align: right;\n",
       "    }\n",
       "</style>\n",
       "<table border=\"1\" class=\"dataframe\">\n",
       "  <thead>\n",
       "    <tr style=\"text-align: right;\">\n",
       "      <th></th>\n",
       "      <th>movie_title</th>\n",
       "      <th>numeric_rating</th>\n",
       "      <th>likes</th>\n",
       "      <th>comment</th>\n",
       "    </tr>\n",
       "  </thead>\n",
       "  <tbody>\n",
       "    <tr>\n",
       "      <th>2</th>\n",
       "      <td>2001: A Space Odyssey</td>\n",
       "      <td>5.0</td>\n",
       "      <td>0</td>\n",
       "      <td>como pode esse filme existir</td>\n",
       "    </tr>\n",
       "    <tr>\n",
       "      <th>12</th>\n",
       "      <td>2001: A Space Odyssey</td>\n",
       "      <td>4.0</td>\n",
       "      <td>1</td>\n",
       "      <td>Da evolução humana,as viagens espacias, relaçã...</td>\n",
       "    </tr>\n",
       "    <tr>\n",
       "      <th>29</th>\n",
       "      <td>2001: A Space Odyssey</td>\n",
       "      <td>5.0</td>\n",
       "      <td>0</td>\n",
       "      <td>Não entendi, mas fodastico mds</td>\n",
       "    </tr>\n",
       "    <tr>\n",
       "      <th>42</th>\n",
       "      <td>2001: A Space Odyssey</td>\n",
       "      <td>5.0</td>\n",
       "      <td>0</td>\n",
       "      <td>O Stanley Kubrick gastou todas as barrinhas ne...</td>\n",
       "    </tr>\n",
       "    <tr>\n",
       "      <th>45</th>\n",
       "      <td>2001: A Space Odyssey</td>\n",
       "      <td>5.0</td>\n",
       "      <td>0</td>\n",
       "      <td>Esse filme é pra ver depois de ficar bem doido...</td>\n",
       "    </tr>\n",
       "    <tr>\n",
       "      <th>...</th>\n",
       "      <td>...</td>\n",
       "      <td>...</td>\n",
       "      <td>...</td>\n",
       "      <td>...</td>\n",
       "    </tr>\n",
       "    <tr>\n",
       "      <th>3023</th>\n",
       "      <td>2001: A Space Odyssey</td>\n",
       "      <td>5.0</td>\n",
       "      <td>0</td>\n",
       "      <td>Sendo sincero, não sei se sou capaz de descrev...</td>\n",
       "    </tr>\n",
       "    <tr>\n",
       "      <th>3025</th>\n",
       "      <td>2001: A Space Odyssey</td>\n",
       "      <td>5.0</td>\n",
       "      <td>0</td>\n",
       "      <td>\"This mission is too important for me to allow...</td>\n",
       "    </tr>\n",
       "    <tr>\n",
       "      <th>3044</th>\n",
       "      <td>2001: A Space Odyssey</td>\n",
       "      <td>4.5</td>\n",
       "      <td>0</td>\n",
       "      <td>Visualmente impecável. Muitos filmes de cgi at...</td>\n",
       "    </tr>\n",
       "    <tr>\n",
       "      <th>3051</th>\n",
       "      <td>2001: A Space Odyssey</td>\n",
       "      <td>4.5</td>\n",
       "      <td>0</td>\n",
       "      <td>laerte eu não sei se entendi mas falaram que e...</td>\n",
       "    </tr>\n",
       "    <tr>\n",
       "      <th>3059</th>\n",
       "      <td>2001: A Space Odyssey</td>\n",
       "      <td>5.0</td>\n",
       "      <td>1</td>\n",
       "      <td>olha eu lembrava que era maluquinho mas não ti...</td>\n",
       "    </tr>\n",
       "  </tbody>\n",
       "</table>\n",
       "<p>249 rows × 4 columns</p>\n",
       "</div>"
      ],
      "text/plain": [
       "                movie_title  numeric_rating  likes  \\\n",
       "2     2001: A Space Odyssey             5.0      0   \n",
       "12    2001: A Space Odyssey             4.0      1   \n",
       "29    2001: A Space Odyssey             5.0      0   \n",
       "42    2001: A Space Odyssey             5.0      0   \n",
       "45    2001: A Space Odyssey             5.0      0   \n",
       "...                     ...             ...    ...   \n",
       "3023  2001: A Space Odyssey             5.0      0   \n",
       "3025  2001: A Space Odyssey             5.0      0   \n",
       "3044  2001: A Space Odyssey             4.5      0   \n",
       "3051  2001: A Space Odyssey             4.5      0   \n",
       "3059  2001: A Space Odyssey             5.0      1   \n",
       "\n",
       "                                                comment  \n",
       "2                          como pode esse filme existir  \n",
       "12    Da evolução humana,as viagens espacias, relaçã...  \n",
       "29                       Não entendi, mas fodastico mds  \n",
       "42    O Stanley Kubrick gastou todas as barrinhas ne...  \n",
       "45    Esse filme é pra ver depois de ficar bem doido...  \n",
       "...                                                 ...  \n",
       "3023  Sendo sincero, não sei se sou capaz de descrev...  \n",
       "3025  \"This mission is too important for me to allow...  \n",
       "3044  Visualmente impecável. Muitos filmes de cgi at...  \n",
       "3051  laerte eu não sei se entendi mas falaram que e...  \n",
       "3059  olha eu lembrava que era maluquinho mas não ti...  \n",
       "\n",
       "[249 rows x 4 columns]"
      ]
     },
     "execution_count": 15,
     "metadata": {},
     "output_type": "execute_result"
    }
   ],
   "source": [
    "desired_lang = 'pt'\n",
    "desired_columns = ['movie_title', 'numeric_rating', 'likes', 'comment']\n",
    "\n",
    "df_filtered = df[df['language'] == desired_lang][desired_columns]\n",
    "df_filtered"
   ]
  },
  {
   "cell_type": "code",
   "execution_count": 16,
   "id": "f04b8c614750f124",
   "metadata": {
    "ExecuteTime": {
     "end_time": "2025-04-08T02:26:15.433091Z",
     "start_time": "2025-04-08T02:26:15.430365Z"
    }
   },
   "outputs": [
    {
     "data": {
      "text/plain": [
       "'O Stanley Kubrick gastou todas as barrinhas nesse filme. Eu não acompanhei muito a carreira da Kubrick, provável dele ser assim a vida toda mas porra, como que pode? O filme é lindo, tudo nesse filme é impecável, da estética ao texto, tudo no seu devido lugar, Absolute cinema. 5/5'"
      ]
     },
     "execution_count": 16,
     "metadata": {},
     "output_type": "execute_result"
    }
   ],
   "source": [
    "comment_example = df_filtered.iloc[3:4,:][\"comment\"]\n",
    "comment_example.item()"
   ]
  },
  {
   "cell_type": "markdown",
   "id": "fcb4c243ad32f547",
   "metadata": {},
   "source": [
    "## 3. Tokenization"
   ]
  },
  {
   "cell_type": "code",
   "execution_count": 17,
   "id": "8d226818dcbf0e0a",
   "metadata": {
    "ExecuteTime": {
     "end_time": "2025-04-08T02:26:15.488832Z",
     "start_time": "2025-04-08T02:26:15.485761Z"
    }
   },
   "outputs": [
    {
     "data": {
      "text/plain": [
       "['O',\n",
       " 'Stanley',\n",
       " 'Kubrick',\n",
       " 'gastou',\n",
       " 'todas',\n",
       " 'as',\n",
       " 'barrinhas',\n",
       " 'nesse',\n",
       " 'filme',\n",
       " '.',\n",
       " 'Eu',\n",
       " 'não',\n",
       " 'acompanhei',\n",
       " 'muito',\n",
       " 'a',\n",
       " 'carreira',\n",
       " 'da',\n",
       " 'Kubrick',\n",
       " ',',\n",
       " 'provável',\n",
       " 'dele',\n",
       " 'ser',\n",
       " 'assim',\n",
       " 'a',\n",
       " 'vida',\n",
       " 'toda',\n",
       " 'mas',\n",
       " 'porra',\n",
       " ',',\n",
       " 'como',\n",
       " 'que',\n",
       " 'pode',\n",
       " '?',\n",
       " 'O',\n",
       " 'filme',\n",
       " 'é',\n",
       " 'lindo',\n",
       " ',',\n",
       " 'tudo',\n",
       " 'nesse',\n",
       " 'filme',\n",
       " 'é',\n",
       " 'impecável',\n",
       " ',',\n",
       " 'da',\n",
       " 'estética',\n",
       " 'ao',\n",
       " 'texto',\n",
       " ',',\n",
       " 'tudo',\n",
       " 'no',\n",
       " 'seu',\n",
       " 'devido',\n",
       " 'lugar',\n",
       " ',',\n",
       " 'Absolute',\n",
       " 'cinema',\n",
       " '.',\n",
       " '5/5']"
      ]
     },
     "execution_count": 17,
     "metadata": {},
     "output_type": "execute_result"
    }
   ],
   "source": [
    "comented_tokenized = tokenize_text(comment_example.item())\n",
    "comented_tokenized"
   ]
  },
  {
   "cell_type": "markdown",
   "id": "e188294099b3569",
   "metadata": {},
   "source": [
    "## 4. Removing stop words"
   ]
  },
  {
   "cell_type": "code",
   "execution_count": 18,
   "id": "a988c62ab7eb6d2d",
   "metadata": {
    "ExecuteTime": {
     "end_time": "2025-04-08T02:26:15.531773Z",
     "start_time": "2025-04-08T02:26:15.527662Z"
    }
   },
   "outputs": [
    {
     "name": "stdout",
     "output_type": "stream",
     "text": [
      "The stopwords amount is 207\n"
     ]
    },
    {
     "data": {
      "text/plain": [
       "{'a',\n",
       " 'ao',\n",
       " 'aos',\n",
       " 'aquela',\n",
       " 'aquelas',\n",
       " 'aquele',\n",
       " 'aqueles',\n",
       " 'aquilo',\n",
       " 'as',\n",
       " 'até',\n",
       " 'com',\n",
       " 'como',\n",
       " 'da',\n",
       " 'das',\n",
       " 'de',\n",
       " 'dela',\n",
       " 'delas',\n",
       " 'dele',\n",
       " 'deles',\n",
       " 'depois',\n",
       " 'do',\n",
       " 'dos',\n",
       " 'e',\n",
       " 'ela',\n",
       " 'elas',\n",
       " 'ele',\n",
       " 'eles',\n",
       " 'em',\n",
       " 'entre',\n",
       " 'era',\n",
       " 'eram',\n",
       " 'essa',\n",
       " 'essas',\n",
       " 'esse',\n",
       " 'esses',\n",
       " 'esta',\n",
       " 'estamos',\n",
       " 'estar',\n",
       " 'estas',\n",
       " 'estava',\n",
       " 'estavam',\n",
       " 'este',\n",
       " 'esteja',\n",
       " 'estejam',\n",
       " 'estejamos',\n",
       " 'estes',\n",
       " 'esteve',\n",
       " 'estive',\n",
       " 'estivemos',\n",
       " 'estiver',\n",
       " 'estivera',\n",
       " 'estiveram',\n",
       " 'estiverem',\n",
       " 'estivermos',\n",
       " 'estivesse',\n",
       " 'estivessem',\n",
       " 'estivéramos',\n",
       " 'estivéssemos',\n",
       " 'estou',\n",
       " 'está',\n",
       " 'estávamos',\n",
       " 'estão',\n",
       " 'eu',\n",
       " 'foi',\n",
       " 'fomos',\n",
       " 'for',\n",
       " 'fora',\n",
       " 'foram',\n",
       " 'forem',\n",
       " 'formos',\n",
       " 'fosse',\n",
       " 'fossem',\n",
       " 'fui',\n",
       " 'fôramos',\n",
       " 'fôssemos',\n",
       " 'haja',\n",
       " 'hajam',\n",
       " 'hajamos',\n",
       " 'havemos',\n",
       " 'haver',\n",
       " 'hei',\n",
       " 'houve',\n",
       " 'houvemos',\n",
       " 'houver',\n",
       " 'houvera',\n",
       " 'houveram',\n",
       " 'houverei',\n",
       " 'houverem',\n",
       " 'houveremos',\n",
       " 'houveria',\n",
       " 'houveriam',\n",
       " 'houvermos',\n",
       " 'houverá',\n",
       " 'houverão',\n",
       " 'houveríamos',\n",
       " 'houvesse',\n",
       " 'houvessem',\n",
       " 'houvéramos',\n",
       " 'houvéssemos',\n",
       " 'há',\n",
       " 'hão',\n",
       " 'isso',\n",
       " 'isto',\n",
       " 'já',\n",
       " 'lhe',\n",
       " 'lhes',\n",
       " 'mais',\n",
       " 'mas',\n",
       " 'me',\n",
       " 'mesmo',\n",
       " 'meu',\n",
       " 'meus',\n",
       " 'minha',\n",
       " 'minhas',\n",
       " 'muito',\n",
       " 'na',\n",
       " 'nas',\n",
       " 'nem',\n",
       " 'no',\n",
       " 'nos',\n",
       " 'nossa',\n",
       " 'nossas',\n",
       " 'nosso',\n",
       " 'nossos',\n",
       " 'num',\n",
       " 'numa',\n",
       " 'não',\n",
       " 'nós',\n",
       " 'o',\n",
       " 'os',\n",
       " 'ou',\n",
       " 'para',\n",
       " 'pela',\n",
       " 'pelas',\n",
       " 'pelo',\n",
       " 'pelos',\n",
       " 'por',\n",
       " 'qual',\n",
       " 'quando',\n",
       " 'que',\n",
       " 'quem',\n",
       " 'se',\n",
       " 'seja',\n",
       " 'sejam',\n",
       " 'sejamos',\n",
       " 'sem',\n",
       " 'ser',\n",
       " 'serei',\n",
       " 'seremos',\n",
       " 'seria',\n",
       " 'seriam',\n",
       " 'será',\n",
       " 'serão',\n",
       " 'seríamos',\n",
       " 'seu',\n",
       " 'seus',\n",
       " 'somos',\n",
       " 'sou',\n",
       " 'sua',\n",
       " 'suas',\n",
       " 'são',\n",
       " 'só',\n",
       " 'também',\n",
       " 'te',\n",
       " 'tem',\n",
       " 'temos',\n",
       " 'tenha',\n",
       " 'tenham',\n",
       " 'tenhamos',\n",
       " 'tenho',\n",
       " 'terei',\n",
       " 'teremos',\n",
       " 'teria',\n",
       " 'teriam',\n",
       " 'terá',\n",
       " 'terão',\n",
       " 'teríamos',\n",
       " 'teu',\n",
       " 'teus',\n",
       " 'teve',\n",
       " 'tinha',\n",
       " 'tinham',\n",
       " 'tive',\n",
       " 'tivemos',\n",
       " 'tiver',\n",
       " 'tivera',\n",
       " 'tiveram',\n",
       " 'tiverem',\n",
       " 'tivermos',\n",
       " 'tivesse',\n",
       " 'tivessem',\n",
       " 'tivéramos',\n",
       " 'tivéssemos',\n",
       " 'tu',\n",
       " 'tua',\n",
       " 'tuas',\n",
       " 'tém',\n",
       " 'tínhamos',\n",
       " 'um',\n",
       " 'uma',\n",
       " 'você',\n",
       " 'vocês',\n",
       " 'vos',\n",
       " 'à',\n",
       " 'às',\n",
       " 'é',\n",
       " 'éramos'}"
      ]
     },
     "execution_count": 18,
     "metadata": {},
     "output_type": "execute_result"
    }
   ],
   "source": [
    "from nltk.corpus import stopwords\n",
    "stops = set(stopwords.words('portuguese'))\n",
    "\n",
    "print(f'The stopwords amount is {len(stops)}')\n",
    "stops"
   ]
  },
  {
   "cell_type": "code",
   "execution_count": 19,
   "id": "1e0363cb9ee6f34b",
   "metadata": {
    "ExecuteTime": {
     "end_time": "2025-04-08T02:26:15.562409Z",
     "start_time": "2025-04-08T02:26:15.559814Z"
    }
   },
   "outputs": [
    {
     "name": "stdout",
     "output_type": "stream",
     "text": [
      "The manual stop words amount is 31\n"
     ]
    }
   ],
   "source": [
    "manual_detected_stop_words = {'o', 'a', 'os', 'as', 'um', 'uma', 'uns', 'umas', 'de', 'do', 'da', 'e', 'que', 'eu', 'tu', 'ele', 'ela', 'eles', 'vós', 'nós', 'você', 'vocês', 'me', 'te', 'lhe', 'nos', 'vos', 'lhes', 'mim', 'ti', 'si'}\n",
    "\n",
    "print(f'The manual stop words amount is {len(manual_detected_stop_words)}')"
   ]
  },
  {
   "cell_type": "code",
   "execution_count": 20,
   "id": "d8a186b78e99f9d8",
   "metadata": {
    "ExecuteTime": {
     "end_time": "2025-04-08T02:26:15.583508Z",
     "start_time": "2025-04-08T02:26:15.580181Z"
    }
   },
   "outputs": [
    {
     "name": "stdout",
     "output_type": "stream",
     "text": [
      "The final stop words amount is 213\n",
      "Some stpop words are:\n"
     ]
    },
    {
     "data": {
      "text/plain": [
       "['elas',\n",
       " 'seriam',\n",
       " 'houverei',\n",
       " 'mesmo',\n",
       " 'havemos',\n",
       " 'fôramos',\n",
       " 'já',\n",
       " 'lhe',\n",
       " 'meu',\n",
       " 'tenham']"
      ]
     },
     "execution_count": 20,
     "metadata": {},
     "output_type": "execute_result"
    }
   ],
   "source": [
    "all_stopwords = set(stops) | set(manual_detected_stop_words)\n",
    "\n",
    "print(f'The final stop words amount is {len(all_stopwords)}')\n",
    "\n",
    "print(f'Some stpop words are:')\n",
    "list(all_stopwords)[:10]"
   ]
  },
  {
   "cell_type": "code",
   "execution_count": 21,
   "id": "9b3540582b2b77c1",
   "metadata": {
    "ExecuteTime": {
     "end_time": "2025-04-08T02:26:15.605463Z",
     "start_time": "2025-04-08T02:26:15.602469Z"
    }
   },
   "outputs": [
    {
     "name": "stdout",
     "output_type": "stream",
     "text": [
      "The size of the comment with stop words is 59\n",
      "The size of the comment without stop words is 224\n",
      "\n",
      "Some words of the comment without stop words are:\n"
     ]
    },
    {
     "data": {
      "text/plain": [
       "'Stanley Ku'"
      ]
     },
     "execution_count": 21,
     "metadata": {},
     "output_type": "execute_result"
    }
   ],
   "source": [
    "comment_without_stop_words = remove_stop_words(comented_tokenized)\n",
    "print(f'The size of the comment with stop words is {len(comented_tokenized)}')\n",
    "print(f'The size of the comment without stop words is {len(comment_without_stop_words)}\\n')\n",
    "print(f'Some words of the comment without stop words are:')\n",
    "comment_without_stop_words[:10]"
   ]
  },
  {
   "cell_type": "markdown",
   "id": "c476a61a2b5c2ea5",
   "metadata": {},
   "source": [
    "## 5. Reading portuguese dictionary"
   ]
  },
  {
   "cell_type": "code",
   "execution_count": 22,
   "id": "59452f83e433c00",
   "metadata": {
    "ExecuteTime": {
     "end_time": "2025-04-08T02:31:38.856280Z",
     "start_time": "2025-04-08T02:31:38.823385Z"
    }
   },
   "outputs": [
    {
     "data": {
      "application/vnd.microsoft.datawrangler.viewer.v0+json": {
       "columns": [
        {
         "name": "index",
         "rawType": "int64",
         "type": "integer"
        },
        {
         "name": "category_id",
         "rawType": "int64",
         "type": "integer"
        },
        {
         "name": "category_name",
         "rawType": "object",
         "type": "string"
        }
       ],
       "conversionMethod": "pd.DataFrame",
       "ref": "458506c3-d45c-4744-b068-745352ba5337",
       "rows": [
        [
         "0",
         "1",
         "function"
        ],
        [
         "1",
         "2",
         "pronoun"
        ],
        [
         "2",
         "3",
         "ppron"
        ],
        [
         "3",
         "4",
         "i"
        ],
        [
         "4",
         "5",
         "we"
        ],
        [
         "5",
         "6",
         "you"
        ],
        [
         "6",
         "7",
         "shehe"
        ],
        [
         "7",
         "8",
         "they"
        ],
        [
         "8",
         "9",
         "ipron"
        ],
        [
         "9",
         "10",
         "article"
        ],
        [
         "10",
         "11",
         "prep"
        ],
        [
         "11",
         "12",
         "auxverb"
        ],
        [
         "12",
         "13",
         "adverb"
        ],
        [
         "13",
         "14",
         "conj"
        ],
        [
         "14",
         "15",
         "negate"
        ],
        [
         "15",
         "20",
         "verb"
        ],
        [
         "16",
         "21",
         "adj"
        ],
        [
         "17",
         "22",
         "compare"
        ],
        [
         "18",
         "23",
         "interrog"
        ],
        [
         "19",
         "24",
         "number"
        ],
        [
         "20",
         "25",
         "quant"
        ],
        [
         "21",
         "30",
         "affect"
        ],
        [
         "22",
         "31",
         "posemo"
        ],
        [
         "23",
         "32",
         "negemo"
        ],
        [
         "24",
         "33",
         "anx"
        ],
        [
         "25",
         "34",
         "anger"
        ],
        [
         "26",
         "35",
         "sad"
        ],
        [
         "27",
         "40",
         "social"
        ],
        [
         "28",
         "41",
         "family"
        ],
        [
         "29",
         "42",
         "friend"
        ],
        [
         "30",
         "43",
         "female"
        ],
        [
         "31",
         "44",
         "male"
        ],
        [
         "32",
         "50",
         "cogproc"
        ],
        [
         "33",
         "51",
         "insight"
        ],
        [
         "34",
         "52",
         "cause"
        ],
        [
         "35",
         "53",
         "discrep"
        ],
        [
         "36",
         "54",
         "tentat"
        ],
        [
         "37",
         "55",
         "certain"
        ],
        [
         "38",
         "56",
         "differ"
        ],
        [
         "39",
         "60",
         "percept"
        ],
        [
         "40",
         "61",
         "see"
        ],
        [
         "41",
         "62",
         "hear"
        ],
        [
         "42",
         "63",
         "feel"
        ],
        [
         "43",
         "70",
         "bio"
        ],
        [
         "44",
         "71",
         "body"
        ],
        [
         "45",
         "72",
         "health"
        ],
        [
         "46",
         "73",
         "sexual"
        ],
        [
         "47",
         "74",
         "ingest"
        ],
        [
         "48",
         "80",
         "drives"
        ],
        [
         "49",
         "81",
         "affiliation"
        ]
       ],
       "shape": {
        "columns": 2,
        "rows": 73
       }
      },
      "text/html": [
       "<div>\n",
       "<style scoped>\n",
       "    .dataframe tbody tr th:only-of-type {\n",
       "        vertical-align: middle;\n",
       "    }\n",
       "\n",
       "    .dataframe tbody tr th {\n",
       "        vertical-align: top;\n",
       "    }\n",
       "\n",
       "    .dataframe thead th {\n",
       "        text-align: right;\n",
       "    }\n",
       "</style>\n",
       "<table border=\"1\" class=\"dataframe\">\n",
       "  <thead>\n",
       "    <tr style=\"text-align: right;\">\n",
       "      <th></th>\n",
       "      <th>category_id</th>\n",
       "      <th>category_name</th>\n",
       "    </tr>\n",
       "  </thead>\n",
       "  <tbody>\n",
       "    <tr>\n",
       "      <th>0</th>\n",
       "      <td>1</td>\n",
       "      <td>function</td>\n",
       "    </tr>\n",
       "    <tr>\n",
       "      <th>1</th>\n",
       "      <td>2</td>\n",
       "      <td>pronoun</td>\n",
       "    </tr>\n",
       "    <tr>\n",
       "      <th>2</th>\n",
       "      <td>3</td>\n",
       "      <td>ppron</td>\n",
       "    </tr>\n",
       "    <tr>\n",
       "      <th>3</th>\n",
       "      <td>4</td>\n",
       "      <td>i</td>\n",
       "    </tr>\n",
       "    <tr>\n",
       "      <th>4</th>\n",
       "      <td>5</td>\n",
       "      <td>we</td>\n",
       "    </tr>\n",
       "    <tr>\n",
       "      <th>...</th>\n",
       "      <td>...</td>\n",
       "      <td>...</td>\n",
       "    </tr>\n",
       "    <tr>\n",
       "      <th>68</th>\n",
       "      <td>121</td>\n",
       "      <td>swear</td>\n",
       "    </tr>\n",
       "    <tr>\n",
       "      <th>69</th>\n",
       "      <td>122</td>\n",
       "      <td>netspeak</td>\n",
       "    </tr>\n",
       "    <tr>\n",
       "      <th>70</th>\n",
       "      <td>123</td>\n",
       "      <td>assent</td>\n",
       "    </tr>\n",
       "    <tr>\n",
       "      <th>71</th>\n",
       "      <td>124</td>\n",
       "      <td>nonflu</td>\n",
       "    </tr>\n",
       "    <tr>\n",
       "      <th>72</th>\n",
       "      <td>125</td>\n",
       "      <td>filler</td>\n",
       "    </tr>\n",
       "  </tbody>\n",
       "</table>\n",
       "<p>73 rows × 2 columns</p>\n",
       "</div>"
      ],
      "text/plain": [
       "    category_id category_name\n",
       "0             1      function\n",
       "1             2       pronoun\n",
       "2             3         ppron\n",
       "3             4             i\n",
       "4             5            we\n",
       "..          ...           ...\n",
       "68          121         swear\n",
       "69          122      netspeak\n",
       "70          123        assent\n",
       "71          124        nonflu\n",
       "72          125        filler\n",
       "\n",
       "[73 rows x 2 columns]"
      ]
     },
     "execution_count": 22,
     "metadata": {},
     "output_type": "execute_result"
    }
   ],
   "source": [
    "dict_data = DictData()\n",
    "category_df = dict_data.get_category_df()\n",
    "category_df"
   ]
  },
  {
   "cell_type": "code",
   "execution_count": 23,
   "id": "1d85c18f8089d37",
   "metadata": {
    "ExecuteTime": {
     "end_time": "2025-04-08T02:32:17.023524Z",
     "start_time": "2025-04-08T02:32:16.992690Z"
    }
   },
   "outputs": [
    {
     "data": {
      "application/vnd.microsoft.datawrangler.viewer.v0+json": {
       "columns": [
        {
         "name": "index",
         "rawType": "int64",
         "type": "integer"
        },
        {
         "name": "word",
         "rawType": "object",
         "type": "string"
        },
        {
         "name": "is_wildcard",
         "rawType": "bool",
         "type": "boolean"
        },
        {
         "name": "category_ids",
         "rawType": "object",
         "type": "unknown"
        }
       ],
       "conversionMethod": "pd.DataFrame",
       "ref": "c2c8571d-2efb-499d-a976-da87762d8a71",
       "rows": [
        [
         "0",
         "(:",
         "False",
         "[30, 31, 120, 122]"
        ],
        [
         "1",
         "):",
         "False",
         "[30, 32, 120, 122]"
        ],
        [
         "2",
         ":(",
         "False",
         "[30, 32, 120, 122]"
        ],
        [
         "3",
         ":'(",
         "False",
         "[30, 32, 35, 120, 122]"
        ],
        [
         "4",
         ":-(",
         "False",
         "[30, 32, 120, 122]"
        ],
        [
         "5",
         ":((",
         "False",
         "[30, 32, 35, 120, 122]"
        ],
        [
         "6",
         ":)",
         "False",
         "[30, 31, 120, 122]"
        ],
        [
         "7",
         ":-)",
         "False",
         "[30, 31, 120, 122]"
        ],
        [
         "8",
         ":/",
         "False",
         "[30, 32, 120, 122]"
        ],
        [
         "9",
         ":[",
         "False",
         "[30, 32, 120, 122]"
        ],
        [
         "10",
         ":\\",
         "False",
         "[30, 32, 120, 122]"
        ],
        [
         "11",
         ":]",
         "False",
         "[30, 31, 120, 122]"
        ],
        [
         "12",
         ":|",
         "False",
         "[30, 32, 120, 122]"
        ],
        [
         "13",
         ":-<",
         "False",
         "[30, 32, 120, 122]"
        ],
        [
         "14",
         ":D",
         "False",
         "[30, 31, 120, 122]"
        ],
        [
         "15",
         ":p",
         "False",
         "[30, 31, 120, 122]"
        ],
        [
         "16",
         ";)",
         "False",
         "[30, 31, 120, 122]"
        ],
        [
         "17",
         ";-)",
         "False",
         "[30, 31, 120, 122]"
        ],
        [
         "18",
         "^_^",
         "False",
         "[30, 31, 120, 122]"
        ],
        [
         "19",
         "<3",
         "False",
         "[30, 31, 120, 122]"
        ],
        [
         "20",
         "=(",
         "False",
         "[30, 32, 120, 122]"
        ],
        [
         "21",
         "=)",
         "False",
         "[30, 31, 120, 122]"
        ],
        [
         "22",
         "=D",
         "False",
         "[30, 31, 120, 122]"
        ],
        [
         "23",
         ">:(",
         "False",
         "[30, 32, 34, 120, 122]"
        ],
        [
         "24",
         ">:-(",
         "False",
         "[30, 32, 34, 120, 122]"
        ],
        [
         "25",
         "3ds",
         "False",
         "[60, 61, 62, 111]"
        ],
        [
         "26",
         "a",
         "False",
         "[1, 2, 3, 7, 9, 10, 11]"
        ],
        [
         "27",
         "à",
         "False",
         "[1, 11]"
        ],
        [
         "28",
         "ã",
         "True",
         "[120, 124]"
        ],
        [
         "29",
         "aaa",
         "True",
         "[120, 124]"
        ],
        [
         "30",
         "aas",
         "False",
         "[70, 72]"
        ],
        [
         "31",
         "abacavir",
         "False",
         "[70, 72]"
        ],
        [
         "32",
         "abadá",
         "False",
         "[111]"
        ],
        [
         "33",
         "abaixando",
         "False",
         "[20, 30, 32, 35, 80, 83, 100, 102]"
        ],
        [
         "34",
         "abaixo",
         "False",
         "[1, 13, 30, 32, 35, 80, 83, 100, 102]"
        ],
        [
         "35",
         "abanad",
         "True",
         "[100, 101]"
        ],
        [
         "36",
         "abanando",
         "False",
         "[100, 101]"
        ],
        [
         "37",
         "abanar",
         "False",
         "[20, 100, 101]"
        ],
        [
         "38",
         "abandon",
         "True",
         "[30, 32, 35, 80, 82, 110]"
        ],
        [
         "39",
         "abanos",
         "False",
         "[100, 101]"
        ],
        [
         "40",
         "abastad",
         "True",
         "[113]"
        ],
        [
         "41",
         "abatacepte",
         "False",
         "[70, 72]"
        ],
        [
         "42",
         "abater",
         "False",
         "[20, 115]"
        ],
        [
         "43",
         "abatid",
         "True",
         "[30, 32, 35, 115]"
        ],
        [
         "44",
         "abatimento",
         "True",
         "[113]"
        ],
        [
         "45",
         "abciximabe",
         "False",
         "[70, 72]"
        ],
        [
         "46",
         "abdômen",
         "True",
         "[70, 71]"
        ],
        [
         "47",
         "abdomina",
         "True",
         "[70, 71]"
        ],
        [
         "48",
         "abençoa",
         "False",
         "[20, 30, 31, 91, 114]"
        ],
        [
         "49",
         "abençoad",
         "True",
         "[30, 31, 114]"
        ]
       ],
       "shape": {
        "columns": 3,
        "rows": 14459
       }
      },
      "text/html": [
       "<div>\n",
       "<style scoped>\n",
       "    .dataframe tbody tr th:only-of-type {\n",
       "        vertical-align: middle;\n",
       "    }\n",
       "\n",
       "    .dataframe tbody tr th {\n",
       "        vertical-align: top;\n",
       "    }\n",
       "\n",
       "    .dataframe thead th {\n",
       "        text-align: right;\n",
       "    }\n",
       "</style>\n",
       "<table border=\"1\" class=\"dataframe\">\n",
       "  <thead>\n",
       "    <tr style=\"text-align: right;\">\n",
       "      <th></th>\n",
       "      <th>word</th>\n",
       "      <th>is_wildcard</th>\n",
       "      <th>category_ids</th>\n",
       "    </tr>\n",
       "  </thead>\n",
       "  <tbody>\n",
       "    <tr>\n",
       "      <th>0</th>\n",
       "      <td>(:</td>\n",
       "      <td>False</td>\n",
       "      <td>[30, 31, 120, 122]</td>\n",
       "    </tr>\n",
       "    <tr>\n",
       "      <th>1</th>\n",
       "      <td>):</td>\n",
       "      <td>False</td>\n",
       "      <td>[30, 32, 120, 122]</td>\n",
       "    </tr>\n",
       "    <tr>\n",
       "      <th>2</th>\n",
       "      <td>:(</td>\n",
       "      <td>False</td>\n",
       "      <td>[30, 32, 120, 122]</td>\n",
       "    </tr>\n",
       "    <tr>\n",
       "      <th>3</th>\n",
       "      <td>:'(</td>\n",
       "      <td>False</td>\n",
       "      <td>[30, 32, 35, 120, 122]</td>\n",
       "    </tr>\n",
       "    <tr>\n",
       "      <th>4</th>\n",
       "      <td>:-(</td>\n",
       "      <td>False</td>\n",
       "      <td>[30, 32, 120, 122]</td>\n",
       "    </tr>\n",
       "    <tr>\n",
       "      <th>...</th>\n",
       "      <td>...</td>\n",
       "      <td>...</td>\n",
       "      <td>...</td>\n",
       "    </tr>\n",
       "    <tr>\n",
       "      <th>14454</th>\n",
       "      <td>zueir</td>\n",
       "      <td>True</td>\n",
       "      <td>[120, 122]</td>\n",
       "    </tr>\n",
       "    <tr>\n",
       "      <th>14455</th>\n",
       "      <td>zuer</td>\n",
       "      <td>True</td>\n",
       "      <td>[120, 122]</td>\n",
       "    </tr>\n",
       "    <tr>\n",
       "      <th>14456</th>\n",
       "      <td>zuêr</td>\n",
       "      <td>True</td>\n",
       "      <td>[120, 122]</td>\n",
       "    </tr>\n",
       "    <tr>\n",
       "      <th>14457</th>\n",
       "      <td>zumbi</td>\n",
       "      <td>False</td>\n",
       "      <td>[115]</td>\n",
       "    </tr>\n",
       "    <tr>\n",
       "      <th>14458</th>\n",
       "      <td>zz</td>\n",
       "      <td>True</td>\n",
       "      <td>[120, 124]</td>\n",
       "    </tr>\n",
       "  </tbody>\n",
       "</table>\n",
       "<p>14459 rows × 3 columns</p>\n",
       "</div>"
      ],
      "text/plain": [
       "        word  is_wildcard            category_ids\n",
       "0         (:        False      [30, 31, 120, 122]\n",
       "1         ):        False      [30, 32, 120, 122]\n",
       "2         :(        False      [30, 32, 120, 122]\n",
       "3        :'(        False  [30, 32, 35, 120, 122]\n",
       "4        :-(        False      [30, 32, 120, 122]\n",
       "...      ...          ...                     ...\n",
       "14454  zueir         True              [120, 122]\n",
       "14455   zuer         True              [120, 122]\n",
       "14456   zuêr         True              [120, 122]\n",
       "14457  zumbi        False                   [115]\n",
       "14458     zz         True              [120, 124]\n",
       "\n",
       "[14459 rows x 3 columns]"
      ]
     },
     "execution_count": 23,
     "metadata": {},
     "output_type": "execute_result"
    }
   ],
   "source": [
    "entry_df = dict_data.get_entries_df()\n",
    "entry_df"
   ]
  },
  {
   "cell_type": "markdown",
   "id": "31baa86ba9aa04e0",
   "metadata": {},
   "source": [
    "## 6. Stemming (Derivation)"
   ]
  },
  {
   "cell_type": "code",
   "execution_count": 24,
   "id": "b4bbbebe4ec5c8f6",
   "metadata": {
    "ExecuteTime": {
     "end_time": "2025-04-08T02:26:15.685714Z",
     "start_time": "2025-04-08T02:21:21.104226Z"
    }
   },
   "outputs": [
    {
     "name": "stdout",
     "output_type": "stream",
     "text": [
      "Start of the commented stemmed: [[120, 124], [120, 122], [1, 2, 3, 7, 9, 10, 11], [120, 124], [120, 122, 124], [110], [1, 14], [120, 122, 124], [70, 74, 111], [120, 124]]\n",
      "Start of the commented flatten: [120, 124, 120, 122, 1, 2, 3, 7, 9, 10]\n"
     ]
    }
   ],
   "source": [
    "from symbolic.helpers.flatten import flatten_extend\n",
    "\n",
    "\n",
    "ps = nltk.PorterStemmer()\n",
    "\n",
    "comment_steammed = stemming_words(words=comment_without_stop_words, porter_steamer=ps, entry_df=entry_df)\n",
    "\n",
    "print(f'Start of the commented stemmed: {comment_steammed[:10]}')\n",
    "print(f'Start of the commented flatten: {flatten_extend(comment_steammed)[:10]}')"
   ]
  }
 ],
 "metadata": {
  "kernelspec": {
   "display_name": "base",
   "language": "python",
   "name": "python3"
  },
  "language_info": {
   "codemirror_mode": {
    "name": "ipython",
    "version": 3
   },
   "file_extension": ".py",
   "mimetype": "text/x-python",
   "name": "python",
   "nbconvert_exporter": "python",
   "pygments_lexer": "ipython3",
   "version": "3.12.8"
  }
 },
 "nbformat": 4,
 "nbformat_minor": 5
}
